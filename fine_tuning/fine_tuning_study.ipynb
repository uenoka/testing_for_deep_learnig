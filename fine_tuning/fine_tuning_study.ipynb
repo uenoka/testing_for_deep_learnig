{
  "nbformat": 4,
  "nbformat_minor": 0,
  "metadata": {
    "colab": {
      "name": "fine_tuning_study",
      "provenance": [],
      "collapsed_sections": [],
      "include_colab_link": true
    },
    "kernelspec": {
      "name": "python3",
      "display_name": "Python 3"
    }
  },
  "cells": [
    {
      "cell_type": "markdown",
      "metadata": {
        "id": "view-in-github",
        "colab_type": "text"
      },
      "source": [
        "<a href=\"https://colab.research.google.com/github/uenoka/testing_for_deep_learnig/blob/Master/fine_tuning/fine_tuning_study.ipynb\" target=\"_parent\"><img src=\"https://colab.research.google.com/assets/colab-badge.svg\" alt=\"Open In Colab\"/></a>"
      ]
    },
    {
      "cell_type": "markdown",
      "metadata": {
        "id": "L_yC_0VuEhI2",
        "colab_type": "text"
      },
      "source": [
        "# 転移学習の実験をしてみる\n",
        "## TODO\n",
        "* 以下の3つのモデルを用意する\n",
        "** VGG16、19、ResNetの重みありモデルの出力層を2値に変更して、犬猫画像で学習したもの\n",
        "** VGG16、19、ResNetの重みありモデルの出力層を2値に変更して、犬猫画像で学習していないもの\n",
        "** VGG16、19、ResNetの重みなしモデルの出力層を2値に変更してい、犬猫画像で学習したもの\n",
        "* それぞれを用いて予測して、以下の表を埋める\n",
        "\n",
        "| モデル |  重み  | 学習 | 結果 |\n",
        "|  ----  | ----   | ---- | ---- |\n",
        "|  VGG16 |  あり  | あり |      |\n",
        "|  VGG16 |  あり  | なし |      |\n",
        "|  VGG16 |  なし  | あり |      |\n",
        "|  VGG19 |  あり  | あり |      |\n",
        "|  VGG19 |  あり  | なし |      |\n",
        "|  VGG19 |  なし  | あり |      |\n",
        "| ResNet |  あり  | あり |      |\n",
        "| ResNet |  あり  | なし |      |\n",
        "| ResNet |  なし  | あり |      |\n",
        "\n",
        "* これによって、どのくらい転移学習が効果的かが見えてくるはず。\n",
        "* モデルの作成はこちらで行う https://colab.research.google.com/drive/1yH3lbHCbkY6fG_in0OlLy41Dk5OmaAPW#scrollTo=U6M92FBbceT5"
      ]
    },
    {
      "cell_type": "code",
      "metadata": {
        "id": "_cJm-lwRDJTz",
        "colab_type": "code",
        "colab": {}
      },
      "source": [
        ""
      ],
      "execution_count": 0,
      "outputs": []
    }
  ]
}